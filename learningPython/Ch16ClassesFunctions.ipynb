{
 "metadata": {
  "name": "Ch16ClassesFunctions"
 },
 "nbformat": 3,
 "nbformat_minor": 0,
 "worksheets": [
  {
   "cells": [
    {
     "cell_type": "code",
     "collapsed": false,
     "input": [
      "#Time: Define a class called time that records the time of day\n",
      "\n",
      "class Time(object):\n",
      "    \"\"\"represents the time of day.\n",
      "        attributes: house, minute, second\"\"\"\n"
     ],
     "language": "python",
     "metadata": {},
     "outputs": [],
     "prompt_number": 17
    },
    {
     "cell_type": "code",
     "collapsed": false,
     "input": [
      "#Exercise 16.1: write a function print_time that takes a Time object and prints it in the form of hour:minute:second.\n",
      "# format sequence '%.2d' prints an integer using at least 2 digits, including a leading zero if necessary.\n",
      "\n",
      "time1 = Time()\n",
      "time1.hour = 11\n",
      "time1.minute = 59\n",
      "time1.second = 3\n",
      "\n",
      "def print_time(t):\n",
      "    print '%.2d:%.2d:%.2d' % (t.hour,t.minute,t.second)"
     ],
     "language": "python",
     "metadata": {},
     "outputs": [],
     "prompt_number": 28
    },
    {
     "cell_type": "code",
     "collapsed": false,
     "input": [
      "print_time(time1)"
     ],
     "language": "python",
     "metadata": {},
     "outputs": [
      {
       "output_type": "stream",
       "stream": "stdout",
       "text": [
        "11:59:03\n"
       ]
      }
     ],
     "prompt_number": 29
    },
    {
     "cell_type": "code",
     "collapsed": false,
     "input": [
      "#Exercise 16.2: write a bool fcn is_after w/ two Time objects as arguments and returns True if t1 > t2 chronologically.\n",
      "\n",
      "#whatever means necessary:\n",
      "\n",
      "def is_after(t1,t2):\n",
      "    if t1.hour > t2.hour:\n",
      "        return True\n",
      "    elif t1.hour == t2.hour:\n",
      "        if t1.minute > t2.minute:\n",
      "            return True\n",
      "        elif t1.minute == t2.minute:\n",
      "            if t1.second > t2.second:\n",
      "                return True\n",
      "    \n",
      "    return False\n",
      "    \n",
      "    "
     ],
     "language": "python",
     "metadata": {},
     "outputs": [],
     "prompt_number": 22
    },
    {
     "cell_type": "code",
     "collapsed": false,
     "input": [
      "time2 = Time()\n",
      "time2.hour = 11\n",
      "time2.minute = 59\n",
      "time2.second = 1\n"
     ],
     "language": "python",
     "metadata": {},
     "outputs": [],
     "prompt_number": 49
    },
    {
     "cell_type": "code",
     "collapsed": false,
     "input": [
      "#without if statements\n",
      "\n",
      "def is_after0(t1,t2):\n",
      "    return (t1.hour,t1.minute,t1.second) > (t2.hour,t2.minute,t2.second)"
     ],
     "language": "python",
     "metadata": {},
     "outputs": [],
     "prompt_number": 50
    },
    {
     "cell_type": "code",
     "collapsed": false,
     "input": [
      "is_after0(time1,time2)"
     ],
     "language": "python",
     "metadata": {},
     "outputs": [
      {
       "output_type": "pyout",
       "prompt_number": 51,
       "text": [
        "True"
       ]
      }
     ],
     "prompt_number": 51
    },
    {
     "cell_type": "code",
     "collapsed": false,
     "input": [
      "is_after(time1,time2)"
     ],
     "language": "python",
     "metadata": {},
     "outputs": [
      {
       "output_type": "pyout",
       "prompt_number": 52,
       "text": [
        "True"
       ]
      }
     ],
     "prompt_number": 52
    },
    {
     "cell_type": "code",
     "collapsed": false,
     "input": [
      "#Pure functions and development plan: prototype and patch."
     ],
     "language": "python",
     "metadata": {},
     "outputs": [],
     "prompt_number": 68
    },
    {
     "cell_type": "code",
     "collapsed": false,
     "input": [
      "#simple prototype of add_time:\n",
      "\n",
      "def add_time(t1,t2):\n",
      "    sum = Time()\n",
      "    sum.hour = t1.hour + t2.hour\n",
      "    sum.minute = t1.minute + t2.minute\n",
      "    sum.second = t1.second + t2.second\n",
      "    \n",
      "    if sum.second >= 60:\n",
      "        sum.second -= 60\n",
      "        sum.minute += 1\n",
      "    \n",
      "    if sum.minute >= 60:\n",
      "        sum.minute -= 60\n",
      "        sum.hour += 1\n",
      "    \n",
      "    return sum\n"
     ],
     "language": "python",
     "metadata": {},
     "outputs": [],
     "prompt_number": 73
    },
    {
     "cell_type": "code",
     "collapsed": false,
     "input": [
      "#This is a 'pure function' because it does not modify any of the objects that are passed to it as arguments.\n",
      "\n",
      "start = Time()\n",
      "start.hour = 9\n",
      "start.minute = 45\n",
      "start.second = 0\n",
      "\n",
      "duration = Time()\n",
      "duration.hour = 1\n",
      "duration.minute = 35\n",
      "duration.second = 0\n"
     ],
     "language": "python",
     "metadata": {},
     "outputs": [],
     "prompt_number": 74
    },
    {
     "cell_type": "code",
     "collapsed": false,
     "input": [
      "done = add_time(start,duration)"
     ],
     "language": "python",
     "metadata": {},
     "outputs": [],
     "prompt_number": 75
    },
    {
     "cell_type": "code",
     "collapsed": false,
     "input": [
      "print_time(done)"
     ],
     "language": "python",
     "metadata": {},
     "outputs": [
      {
       "output_type": "stream",
       "stream": "stdout",
       "text": [
        "11:20:00\n"
       ]
      }
     ],
     "prompt_number": 76
    },
    {
     "cell_type": "code",
     "collapsed": false,
     "input": [
      "#Modifiers. Sometimes useful for a fcn to modify objects it receives as parameters. In this case, changes visible to caller.\n",
      "#Fcns that work this way are modifiers. Example: 'increment': adds a given number of scns to a Time objects.\n",
      "\n",
      "def increment(time,seconds):\n",
      "    \n",
      "    n = seconds/60\n",
      "    print n\n",
      "    time.second += seconds%60\n",
      "    time.minute += n\n",
      "    \n",
      "    if time.second >= 60:\n",
      "        time.second -= 60\n",
      "        time.minute += 1\n",
      "    \n",
      "    if time.minute >= 60:\n",
      "        time.minute -= 60\n",
      "        time.hour += 1\n",
      "        "
     ],
     "language": "python",
     "metadata": {},
     "outputs": [],
     "prompt_number": 149
    },
    {
     "cell_type": "code",
     "collapsed": false,
     "input": [
      "start.hour"
     ],
     "language": "python",
     "metadata": {},
     "outputs": [
      {
       "output_type": "pyout",
       "prompt_number": 150,
       "text": [
        "9"
       ]
      }
     ],
     "prompt_number": 150
    },
    {
     "cell_type": "code",
     "collapsed": false,
     "input": [
      "start.second = 30\n",
      "start.minute = 53"
     ],
     "language": "python",
     "metadata": {},
     "outputs": [],
     "prompt_number": 156
    },
    {
     "cell_type": "code",
     "collapsed": false,
     "input": [
      "start.second,start.minute"
     ],
     "language": "python",
     "metadata": {},
     "outputs": [
      {
       "output_type": "pyout",
       "prompt_number": 157,
       "text": [
        "(30, 53)"
       ]
      }
     ],
     "prompt_number": 157
    },
    {
     "cell_type": "code",
     "collapsed": false,
     "input": [
      "increment(start,3)"
     ],
     "language": "python",
     "metadata": {},
     "outputs": [
      {
       "output_type": "stream",
       "stream": "stdout",
       "text": [
        "0\n"
       ]
      }
     ],
     "prompt_number": 161
    },
    {
     "cell_type": "code",
     "collapsed": false,
     "input": [
      "start.second"
     ],
     "language": "python",
     "metadata": {},
     "outputs": [
      {
       "output_type": "pyout",
       "prompt_number": 162,
       "text": [
        "33"
       ]
      }
     ],
     "prompt_number": 162
    },
    {
     "cell_type": "code",
     "collapsed": false,
     "input": [
      "start.minute"
     ],
     "language": "python",
     "metadata": {},
     "outputs": [
      {
       "output_type": "pyout",
       "prompt_number": 163,
       "text": [
        "57"
       ]
      }
     ],
     "prompt_number": 163
    },
    {
     "cell_type": "code",
     "collapsed": false,
     "input": [
      "#16.4 Write a \"pure\" version of increment that creates and returns a new Time object rather than modifying\n"
     ],
     "language": "python",
     "metadata": {},
     "outputs": [],
     "prompt_number": 164
    },
    {
     "cell_type": "code",
     "collapsed": false,
     "input": [
      "import copy"
     ],
     "language": "python",
     "metadata": {},
     "outputs": [],
     "prompt_number": 165
    },
    {
     "cell_type": "code",
     "collapsed": false,
     "input": [
      "def incrementz(t,seconds):\n",
      "    newtime = copy.deepcopy(t)\n",
      "    \n",
      "    n = seconds/60\n",
      "    print n\n",
      "    newtime.second += seconds%60\n",
      "    newtime.minute += n\n",
      "    \n",
      "    if newtime.second >= 60:\n",
      "        newtime.second -= 60\n",
      "        newtime.minute += 1\n",
      "    \n",
      "    if newtime.minute >= 60:\n",
      "        newtime.minute -= 60\n",
      "        newtime.hour += 1\n",
      "    \n",
      "    return newtime\n"
     ],
     "language": "python",
     "metadata": {},
     "outputs": [],
     "prompt_number": 167
    },
    {
     "cell_type": "code",
     "collapsed": false,
     "input": [
      "start.hour"
     ],
     "language": "python",
     "metadata": {},
     "outputs": [
      {
       "output_type": "pyout",
       "prompt_number": 168,
       "text": [
        "9"
       ]
      }
     ],
     "prompt_number": 168
    },
    {
     "cell_type": "code",
     "collapsed": false,
     "input": [
      "start.minute = 30"
     ],
     "language": "python",
     "metadata": {},
     "outputs": [],
     "prompt_number": 172
    },
    {
     "cell_type": "code",
     "collapsed": false,
     "input": [
      "start.second=30"
     ],
     "language": "python",
     "metadata": {},
     "outputs": [],
     "prompt_number": 173
    },
    {
     "cell_type": "code",
     "collapsed": false,
     "input": [
      "newtime = incrementz(start,280)"
     ],
     "language": "python",
     "metadata": {},
     "outputs": [
      {
       "output_type": "stream",
       "stream": "stdout",
       "text": [
        "4\n"
       ]
      }
     ],
     "prompt_number": 186
    },
    {
     "cell_type": "code",
     "collapsed": false,
     "input": [
      "newtime.hour"
     ],
     "language": "python",
     "metadata": {},
     "outputs": [
      {
       "output_type": "pyout",
       "prompt_number": 187,
       "text": [
        "9"
       ]
      }
     ],
     "prompt_number": 187
    },
    {
     "cell_type": "code",
     "collapsed": false,
     "input": [
      "newtime.minute"
     ],
     "language": "python",
     "metadata": {},
     "outputs": [
      {
       "output_type": "pyout",
       "prompt_number": 188,
       "text": [
        "35"
       ]
      }
     ],
     "prompt_number": 188
    },
    {
     "cell_type": "code",
     "collapsed": false,
     "input": [
      "newtime.second"
     ],
     "language": "python",
     "metadata": {},
     "outputs": [
      {
       "output_type": "pyout",
       "prompt_number": 189,
       "text": [
        "10"
       ]
      }
     ],
     "prompt_number": 189
    },
    {
     "cell_type": "code",
     "collapsed": false,
     "input": [
      "#Prototyping versus planning: Introduction to 'prototype and patch'. Planned insight: Time object is actually a 3-digit number in base 60.\n",
      "#second is the ones column, minute is the sixties column, and hour is the thiry-six hundreds column.\n",
      "#with this insight, can convert Time objects to integers!"
     ],
     "language": "python",
     "metadata": {},
     "outputs": [],
     "prompt_number": 192
    },
    {
     "cell_type": "code",
     "collapsed": false,
     "input": [
      "def time_to_int(time):\n",
      "    minutes = time.hour * 60 + time.minute\n",
      "    seconds = minutes * 60 + time.second\n",
      "    return seconds\n"
     ],
     "language": "python",
     "metadata": {},
     "outputs": [],
     "prompt_number": 193
    },
    {
     "cell_type": "code",
     "collapsed": false,
     "input": [
      "def int_to_time(seconds):\n",
      "    time = Time()\n",
      "    minutes, time.second = divmod(seconds,60)\n",
      "    time.hour, time.minute = divmod(minutes,60)\n",
      "    return time"
     ],
     "language": "python",
     "metadata": {},
     "outputs": [],
     "prompt_number": 197
    },
    {
     "cell_type": "code",
     "collapsed": false,
     "input": [
      "time0 = int_to_time(3725) #consistency checks"
     ],
     "language": "python",
     "metadata": {},
     "outputs": [],
     "prompt_number": 201
    },
    {
     "cell_type": "code",
     "collapsed": false,
     "input": [
      "(time0.hour,time0.minute,time0.second)"
     ],
     "language": "python",
     "metadata": {},
     "outputs": [
      {
       "output_type": "pyout",
       "prompt_number": 202,
       "text": [
        "(1, 2, 5)"
       ]
      }
     ],
     "prompt_number": 202
    },
    {
     "cell_type": "code",
     "collapsed": false,
     "input": [
      "time_to_int(time0)"
     ],
     "language": "python",
     "metadata": {},
     "outputs": [
      {
       "output_type": "pyout",
       "prompt_number": 203,
       "text": [
        "3725"
       ]
      }
     ],
     "prompt_number": 203
    },
    {
     "cell_type": "code",
     "collapsed": false,
     "input": [
      "def add_time(t1,t2):\n",
      "    seconds = time_to_int(t1) + time_to_int(t2)\n",
      "    return int_to_time(seconds)\n"
     ],
     "language": "python",
     "metadata": {},
     "outputs": [],
     "prompt_number": 204
    },
    {
     "cell_type": "code",
     "collapsed": false,
     "input": [
      "sumtime = add_time(time0,start)"
     ],
     "language": "python",
     "metadata": {},
     "outputs": [],
     "prompt_number": 206
    },
    {
     "cell_type": "code",
     "collapsed": false,
     "input": [
      "(sumtime.hour,sumtime.minute,sumtime.second)"
     ],
     "language": "python",
     "metadata": {},
     "outputs": [
      {
       "output_type": "pyout",
       "prompt_number": 207,
       "text": [
        "(10, 32, 35)"
       ]
      }
     ],
     "prompt_number": 207
    },
    {
     "cell_type": "code",
     "collapsed": false,
     "input": [
      "time0.hour "
     ],
     "language": "python",
     "metadata": {},
     "outputs": [
      {
       "output_type": "pyout",
       "prompt_number": 208,
       "text": [
        "1"
       ]
      }
     ],
     "prompt_number": 208
    },
    {
     "cell_type": "code",
     "collapsed": false,
     "input": [
      "start.hour"
     ],
     "language": "python",
     "metadata": {},
     "outputs": [
      {
       "output_type": "pyout",
       "prompt_number": 209,
       "text": [
        "9"
       ]
      }
     ],
     "prompt_number": 209
    },
    {
     "cell_type": "code",
     "collapsed": false,
     "input": [
      "time0.minute"
     ],
     "language": "python",
     "metadata": {},
     "outputs": [
      {
       "output_type": "pyout",
       "prompt_number": 210,
       "text": [
        "2"
       ]
      }
     ],
     "prompt_number": 210
    },
    {
     "cell_type": "code",
     "collapsed": false,
     "input": [
      "start.minute"
     ],
     "language": "python",
     "metadata": {},
     "outputs": [
      {
       "output_type": "pyout",
       "prompt_number": 211,
       "text": [
        "30"
       ]
      }
     ],
     "prompt_number": 211
    },
    {
     "cell_type": "code",
     "collapsed": false,
     "input": [
      "#Exercise 16.5: re-write increment using time_to_int and int_to_time using full script write up for practice\n",
      "\n"
     ],
     "language": "python",
     "metadata": {},
     "outputs": [],
     "prompt_number": 212
    },
    {
     "cell_type": "code",
     "collapsed": false,
     "input": [
      "class Time(object):\n",
      "    \"\"\"represents the time of day.\n",
      "        attributes: hour, minute, second\"\"\"\n",
      "\n",
      "time0 = Time()\n",
      "time0.hour = 7\n",
      "time0.minute = 7\n",
      "time0.second = 7\n",
      "\n",
      "time1 = Time()\n",
      "time1.hour = 11\n",
      "time1.minute = 37\n",
      "time1.second = 13\n",
      "\n",
      "def time_to_int(time):\n",
      "    minutes = time.hour * 60 + time.minute\n",
      "    seconds = minutes * 60 + time.second\n",
      "    return seconds\n",
      "\n",
      "def int_to_time(seconds):\n",
      "    time = Time()\n",
      "    minutes, time.second = divmod(seconds, 60)\n",
      "    time.hour, time.minute = divmod(minutes,60)\n",
      "    return time\n",
      "\n",
      "def increment(time,seconds):\n",
      "    return int_to_time(time_to_int(time) + seconds)\n",
      "\n"
     ],
     "language": "python",
     "metadata": {},
     "outputs": [],
     "prompt_number": 236
    },
    {
     "cell_type": "code",
     "collapsed": false,
     "input": [
      "newtime = increment(time0,67)"
     ],
     "language": "python",
     "metadata": {},
     "outputs": [],
     "prompt_number": 230
    },
    {
     "cell_type": "code",
     "collapsed": false,
     "input": [
      "print_time(newtime)"
     ],
     "language": "python",
     "metadata": {},
     "outputs": [
      {
       "output_type": "stream",
       "stream": "stdout",
       "text": [
        "07:08:14\n"
       ]
      }
     ],
     "prompt_number": 231
    },
    {
     "cell_type": "code",
     "collapsed": false,
     "input": [
      "#Debugging: Checking if any invariants are violated\n",
      "\n",
      "def valid_time(time):\n",
      "    if time.hour <0 or time.minute < 0 or time.second < 0:\n",
      "        return False\n",
      "    if time.minute >= 60 or time.second >= 60:\n",
      "        return False\n",
      "    return True\n",
      "\n",
      "def add_time(t1,t2):\n",
      "    if not valid_time(t1) or not valid_time(t2):\n",
      "        raise ValueError, 'invalid Time object(s) in add_time'\n",
      "    seconds = time_to_int(t1) + time_to_int(t2)\n",
      "    return int_to_time(seconds)\n"
     ],
     "language": "python",
     "metadata": {},
     "outputs": [],
     "prompt_number": 240
    },
    {
     "cell_type": "code",
     "collapsed": false,
     "input": [
      "#Or could use an 'assert' statement. assert statements check a given invariant and raises an exception if it fails\n",
      "\n",
      "def add_time(t1,t2):\n",
      "    assert valid_time(t1) and valid_time(t2), 'invalid Time object(s) in add_time'\n",
      "    seconds = time_to_int(t1) + time_to_int(t2)\n",
      "    return int_to_time(seconds)\n"
     ],
     "language": "python",
     "metadata": {},
     "outputs": [],
     "prompt_number": 248
    },
    {
     "cell_type": "code",
     "collapsed": false,
     "input": [
      "t3 = Time()\n",
      "t3.hour = -8\n",
      "t3.minute = -37\n",
      "t3.second = 5\n",
      "\n",
      "timez = Time()\n",
      "timez.hour = 5\n",
      "timez.minute = -5\n",
      "timez.second = -1"
     ],
     "language": "python",
     "metadata": {},
     "outputs": [],
     "prompt_number": 249
    },
    {
     "cell_type": "code",
     "collapsed": false,
     "input": [
      "add_time(t3,timez)"
     ],
     "language": "python",
     "metadata": {},
     "outputs": [
      {
       "ename": "AssertionError",
       "evalue": "invalid Time object(s) in add_time",
       "output_type": "pyerr",
       "traceback": [
        "\u001b[1;31m---------------------------------------------------------------------------\u001b[0m\n\u001b[1;31mAssertionError\u001b[0m                            Traceback (most recent call last)",
        "\u001b[1;32m<ipython-input-250-68cb7146469a>\u001b[0m in \u001b[0;36m<module>\u001b[1;34m()\u001b[0m\n\u001b[1;32m----> 1\u001b[1;33m \u001b[0madd_time\u001b[0m\u001b[1;33m(\u001b[0m\u001b[0mt3\u001b[0m\u001b[1;33m,\u001b[0m\u001b[0mtimez\u001b[0m\u001b[1;33m)\u001b[0m\u001b[1;33m\u001b[0m\u001b[0m\n\u001b[0m",
        "\u001b[1;32m<ipython-input-248-366ab7bb7c0e>\u001b[0m in \u001b[0;36madd_time\u001b[1;34m(t1, t2)\u001b[0m\n\u001b[0;32m      2\u001b[0m \u001b[1;33m\u001b[0m\u001b[0m\n\u001b[0;32m      3\u001b[0m \u001b[1;32mdef\u001b[0m \u001b[0madd_time\u001b[0m\u001b[1;33m(\u001b[0m\u001b[0mt1\u001b[0m\u001b[1;33m,\u001b[0m\u001b[0mt2\u001b[0m\u001b[1;33m)\u001b[0m\u001b[1;33m:\u001b[0m\u001b[1;33m\u001b[0m\u001b[0m\n\u001b[1;32m----> 4\u001b[1;33m     \u001b[1;32massert\u001b[0m \u001b[0mvalid_time\u001b[0m\u001b[1;33m(\u001b[0m\u001b[0mt1\u001b[0m\u001b[1;33m)\u001b[0m \u001b[1;32mand\u001b[0m \u001b[0mvalid_time\u001b[0m\u001b[1;33m(\u001b[0m\u001b[0mt2\u001b[0m\u001b[1;33m)\u001b[0m\u001b[1;33m,\u001b[0m \u001b[1;34m'invalid Time object(s) in add_time'\u001b[0m\u001b[1;33m\u001b[0m\u001b[0m\n\u001b[0m\u001b[0;32m      5\u001b[0m     \u001b[0mseconds\u001b[0m \u001b[1;33m=\u001b[0m \u001b[0mtime_to_int\u001b[0m\u001b[1;33m(\u001b[0m\u001b[0mt1\u001b[0m\u001b[1;33m)\u001b[0m \u001b[1;33m+\u001b[0m \u001b[0mtime_to_int\u001b[0m\u001b[1;33m(\u001b[0m\u001b[0mt2\u001b[0m\u001b[1;33m)\u001b[0m\u001b[1;33m\u001b[0m\u001b[0m\n\u001b[0;32m      6\u001b[0m     \u001b[1;32mreturn\u001b[0m \u001b[0mint_to_time\u001b[0m\u001b[1;33m(\u001b[0m\u001b[0mseconds\u001b[0m\u001b[1;33m)\u001b[0m\u001b[1;33m\u001b[0m\u001b[0m\n",
        "\u001b[1;31mAssertionError\u001b[0m: invalid Time object(s) in add_time"
       ]
      }
     ],
     "prompt_number": 250
    },
    {
     "cell_type": "code",
     "collapsed": false,
     "input": [],
     "language": "python",
     "metadata": {},
     "outputs": []
    }
   ],
   "metadata": {}
  }
 ]
}