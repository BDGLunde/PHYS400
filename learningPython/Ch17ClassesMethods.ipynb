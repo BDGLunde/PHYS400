{
 "metadata": {
  "name": "Ch17ClassesMethods"
 },
 "nbformat": 3,
 "nbformat_minor": 0,
 "worksheets": [
  {
   "cells": [
    {
     "cell_type": "code",
     "collapsed": false,
     "input": [
      "#Object-oriented features. Here, a method is a function that is associated with a particular class. \n",
      "#What are the differences between functions and methods?\n",
      "\n",
      "#1. Methods are defined inside a class definition.\n",
      "#2. Syntax for calling a method is different than it is for functions\n",
      "#We will be taking the functions defined in the previous chapter and turn them into methods. \n"
     ],
     "language": "python",
     "metadata": {},
     "outputs": [],
     "prompt_number": 1
    },
    {
     "cell_type": "code",
     "collapsed": false,
     "input": [
      "#Printing Objects\n",
      "\n",
      "class Time(object):\n",
      "    \"\"\"represents the time of day.\n",
      "        attributes: hour, minute, second\"\"\"\n",
      "def print_time(time):\n",
      "    print '%.2d:%.2d:%.2d' % (time.hour, time.minute, time.second)\n"
     ],
     "language": "python",
     "metadata": {},
     "outputs": [],
     "prompt_number": 2
    },
    {
     "cell_type": "code",
     "collapsed": false,
     "input": [
      "#Requires:\n",
      "start = Time()\n",
      "start.hour =  9\n",
      "start.minute = 45\n",
      "start.second = 00\n",
      "print_time(start)"
     ],
     "language": "python",
     "metadata": {},
     "outputs": [
      {
       "output_type": "stream",
       "stream": "stdout",
       "text": [
        "09:45:00\n"
       ]
      }
     ],
     "prompt_number": 3
    },
    {
     "cell_type": "code",
     "collapsed": false,
     "input": [
      "#Make print_time a method:\n",
      "\n",
      "class Time(object):\n",
      "    def print_time(time):\n",
      "        print '%.2d:%.2d:%.2d' % (time.hour, time.minute, time.second)\n",
      "\n",
      "start = Time()\n",
      "start.hour = 9\n",
      "start.minute = 45\n",
      "start.second = 00"
     ],
     "language": "python",
     "metadata": {},
     "outputs": [],
     "prompt_number": 7
    },
    {
     "cell_type": "code",
     "collapsed": false,
     "input": [
      "Time.print_time(start) #Function syntax"
     ],
     "language": "python",
     "metadata": {},
     "outputs": [
      {
       "output_type": "stream",
       "stream": "stdout",
       "text": [
        "09:45:00\n"
       ]
      }
     ],
     "prompt_number": 8
    },
    {
     "cell_type": "code",
     "collapsed": false,
     "input": [
      "start.print_time() #Method syntax. print_time is the method and start is the 'subject' on which print_time acts on."
     ],
     "language": "python",
     "metadata": {},
     "outputs": [
      {
       "output_type": "stream",
       "stream": "stdout",
       "text": [
        "09:45:00\n"
       ]
      }
     ],
     "prompt_number": 11
    },
    {
     "cell_type": "code",
     "collapsed": false,
     "input": [
      "#Inside the method, the subject 'start' is assigned to the first parameter. Here 'start' goes to 'time' in print_time(time) definition.\n",
      "#By convention, first parameter of a method is called 'self'! Important to remember! (popped up a lot in qubit and gate). \n",
      "\n",
      "class Time(object):\n",
      "    def print_time(self):\n",
      "        print '%.2d:%.2d:%.2d' % (self.hour, self.minute, self.second)\n",
      "\n",
      "start = Time()\n",
      "start.hour = 9\n",
      "start.minute = 45\n",
      "start.second = 00"
     ],
     "language": "python",
     "metadata": {},
     "outputs": [],
     "prompt_number": 30
    },
    {
     "cell_type": "code",
     "collapsed": false,
     "input": [
      "#Exercise 17.1: Rewrite time_to_int as a method. Not clear what object to invoke on for int_to_time\n",
      "\n",
      "class Time(object):\n",
      "    def print_time(self):\n",
      "        print '%.2d:%.2d:%.2d' % (self.hour, self.minute, self.second)\n",
      "    def time_to_int(self):\n",
      "        minutes = self.hour*60 + self.minute\n",
      "        seconds = minutes*60 + self.second\n",
      "        return seconds\n",
      "\n",
      "time0 = Time()\n",
      "time0.hour = 3\n",
      "time0.minute = 20\n",
      "time0.second = 10\n"
     ],
     "language": "python",
     "metadata": {},
     "outputs": [],
     "prompt_number": 31
    },
    {
     "cell_type": "code",
     "collapsed": false,
     "input": [
      "time0.time_to_int()"
     ],
     "language": "python",
     "metadata": {},
     "outputs": [
      {
       "output_type": "pyout",
       "prompt_number": 32,
       "text": [
        "12010"
       ]
      }
     ],
     "prompt_number": 32
    },
    {
     "cell_type": "code",
     "collapsed": false,
     "input": [
      "3*60 + 20"
     ],
     "language": "python",
     "metadata": {},
     "outputs": [
      {
       "output_type": "pyout",
       "prompt_number": 33,
       "text": [
        "200"
       ]
      }
     ],
     "prompt_number": 33
    },
    {
     "cell_type": "code",
     "collapsed": false,
     "input": [
      "def int_to_time(seconds):\n",
      "    time = Time()\n",
      "    minutes, time.second = divmod(seconds,60)\n",
      "    time.hour, time.minute = divmod(minutes,60)\n",
      "    return time"
     ],
     "language": "python",
     "metadata": {},
     "outputs": [],
     "prompt_number": 34
    },
    {
     "cell_type": "code",
     "collapsed": false,
     "input": [
      "#17.3 Another example. increment rewritten as a method of Time\n",
      "\n",
      "class Time(object):\n",
      "    def print_time(self):\n",
      "        print '%.2d:%.2d:%.2d' % (self.hour, self.minute, self.second)\n",
      "    def time_to_int(self):\n",
      "        minutes = self.hour*60 + self.minute\n",
      "        seconds = minutes*60 + self.second\n",
      "        return seconds\n",
      "    def increment(self,seconds):\n",
      "        seconds += self.time_to_int()\n",
      "        return int_to_time(seconds)"
     ],
     "language": "python",
     "metadata": {},
     "outputs": [],
     "prompt_number": 35
    },
    {
     "cell_type": "code",
     "collapsed": false,
     "input": [
      "start = Time()\n",
      "start.hour = 9\n",
      "start.minute = 45\n",
      "start.second = 0"
     ],
     "language": "python",
     "metadata": {},
     "outputs": [],
     "prompt_number": 36
    },
    {
     "cell_type": "code",
     "collapsed": false,
     "input": [
      "start.print_time()"
     ],
     "language": "python",
     "metadata": {},
     "outputs": [
      {
       "output_type": "stream",
       "stream": "stdout",
       "text": [
        "09:45:00\n"
       ]
      }
     ],
     "prompt_number": 37
    },
    {
     "cell_type": "code",
     "collapsed": false,
     "input": [
      "end = start.increment(1337)"
     ],
     "language": "python",
     "metadata": {},
     "outputs": [],
     "prompt_number": 38
    },
    {
     "cell_type": "code",
     "collapsed": false,
     "input": [
      "end.print_time()"
     ],
     "language": "python",
     "metadata": {},
     "outputs": [
      {
       "output_type": "stream",
       "stream": "stdout",
       "text": [
        "10:07:17\n"
       ]
      }
     ],
     "prompt_number": 39
    },
    {
     "cell_type": "code",
     "collapsed": false,
     "input": [
      "end = start.increment(1337,460)"
     ],
     "language": "python",
     "metadata": {},
     "outputs": [
      {
       "ename": "TypeError",
       "evalue": "increment() takes exactly 2 arguments (3 given)",
       "output_type": "pyerr",
       "traceback": [
        "\u001b[1;31m---------------------------------------------------------------------------\u001b[0m\n\u001b[1;31mTypeError\u001b[0m                                 Traceback (most recent call last)",
        "\u001b[1;32m<ipython-input-40-d091c25adb59>\u001b[0m in \u001b[0;36m<module>\u001b[1;34m()\u001b[0m\n\u001b[1;32m----> 1\u001b[1;33m \u001b[0mend\u001b[0m \u001b[1;33m=\u001b[0m \u001b[0mstart\u001b[0m\u001b[1;33m.\u001b[0m\u001b[0mincrement\u001b[0m\u001b[1;33m(\u001b[0m\u001b[1;36m1337\u001b[0m\u001b[1;33m,\u001b[0m\u001b[1;36m460\u001b[0m\u001b[1;33m)\u001b[0m\u001b[1;33m\u001b[0m\u001b[0m\n\u001b[0m",
        "\u001b[1;31mTypeError\u001b[0m: increment() takes exactly 2 arguments (3 given)"
       ]
      }
     ],
     "prompt_number": 40
    },
    {
     "cell_type": "code",
     "collapsed": false,
     "input": [
      "#More complicated example. Turn is_after into a method (takes 2 Time objects as parameters. Convention is 1st = self, 2nd = other if 2nd is another \n",
      "#object of the same type?\n",
      "#Note: Will just be coming back to line 48 (here) to add on new methods instead of rewriting class definition each time.\n",
      "class Time(object):\n",
      "    def __init__(self, hour=0, minute=0, second=0):\n",
      "        self.hour = hour\n",
      "        self.minute = minute\n",
      "        self.second = second\n",
      "    def __str__(self):\n",
      "        return '%.2d:%.2d:%.2d' % (self.hour, self.minute, self.second)\n",
      "    def __add__(self, other):\n",
      "        seconds = self.time_to_int() + other.time_to_int()\n",
      "        return int_to_time(seconds)\n",
      "    def time_to_int(self):\n",
      "        minutes = self.hour*60 + self.minute\n",
      "        seconds = minutes*60 + self.second\n",
      "        return seconds\n",
      "    def increment(self,seconds):\n",
      "        seconds += self.time_to_int()\n",
      "        return int_to_time(seconds)\n",
      "    def is_after(self,other):\n",
      "        return self.time_to_int() > other.time_to_int()\n",
      "    \n",
      "    "
     ],
     "language": "python",
     "metadata": {},
     "outputs": [],
     "prompt_number": 90
    },
    {
     "cell_type": "code",
     "collapsed": false,
     "input": [
      "start = Time()\n",
      "start.hour = 9\n",
      "start.minute = 45\n",
      "start.second = 0\n",
      "end = start.increment(1337)\n",
      "print time"
     ],
     "language": "python",
     "metadata": {},
     "outputs": [
      {
       "ename": "TypeError",
       "evalue": "__str__ returned non-string (type NoneType)",
       "output_type": "pyerr",
       "traceback": [
        "\u001b[1;31m---------------------------------------------------------------------------\u001b[0m\n\u001b[1;31mTypeError\u001b[0m                                 Traceback (most recent call last)",
        "\u001b[1;32m<ipython-input-77-f8947f483846>\u001b[0m in \u001b[0;36m<module>\u001b[1;34m()\u001b[0m\n\u001b[0;32m      4\u001b[0m \u001b[0mstart\u001b[0m\u001b[1;33m.\u001b[0m\u001b[0msecond\u001b[0m \u001b[1;33m=\u001b[0m \u001b[1;36m0\u001b[0m\u001b[1;33m\u001b[0m\u001b[0m\n\u001b[0;32m      5\u001b[0m \u001b[0mend\u001b[0m \u001b[1;33m=\u001b[0m \u001b[0mstart\u001b[0m\u001b[1;33m.\u001b[0m\u001b[0mincrement\u001b[0m\u001b[1;33m(\u001b[0m\u001b[1;36m1337\u001b[0m\u001b[1;33m)\u001b[0m\u001b[1;33m\u001b[0m\u001b[0m\n\u001b[1;32m----> 6\u001b[1;33m \u001b[1;32mprint\u001b[0m \u001b[0mtime\u001b[0m\u001b[1;33m\u001b[0m\u001b[0m\n\u001b[0m",
        "\u001b[1;31mTypeError\u001b[0m: __str__ returned non-string (type NoneType)"
       ]
      },
      {
       "output_type": "stream",
       "stream": "stdout",
       "text": [
        "09:45:00\n"
       ]
      }
     ],
     "prompt_number": 77
    },
    {
     "cell_type": "code",
     "collapsed": false,
     "input": [
      "end.is_after(start)"
     ],
     "language": "python",
     "metadata": {},
     "outputs": [
      {
       "output_type": "pyout",
       "prompt_number": 73,
       "text": [
        "True"
       ]
      }
     ],
     "prompt_number": 73
    },
    {
     "cell_type": "code",
     "collapsed": false,
     "input": [
      "#17.5 Init Method (init is short for initialization). Special method that invokes when an object is instantiated. Full name is __init__. \n",
      "#Example: Look at the last class Time(object) definition above. \n",
      "#Common for the parameters of __init__ to have the same names as the attributes of the class object.\n",
      "\n",
      "# self.hour = hour STORES THE VALUE OF THE PARAMETER AS AN ATTRIBUTE OF SELF\n",
      "time = Time()\n",
      "time.print_time()"
     ],
     "language": "python",
     "metadata": {},
     "outputs": [
      {
       "output_type": "stream",
       "stream": "stdout",
       "text": [
        "00:00:00\n"
       ]
      }
     ],
     "prompt_number": 54
    },
    {
     "cell_type": "code",
     "collapsed": false,
     "input": [
      "time = Time(9)"
     ],
     "language": "python",
     "metadata": {},
     "outputs": [],
     "prompt_number": 55
    },
    {
     "cell_type": "code",
     "collapsed": false,
     "input": [
      "time.print_time()"
     ],
     "language": "python",
     "metadata": {},
     "outputs": [
      {
       "output_type": "stream",
       "stream": "stdout",
       "text": [
        "09:00:00\n"
       ]
      }
     ],
     "prompt_number": 56
    },
    {
     "cell_type": "code",
     "collapsed": false,
     "input": [
      "time = Time(9,45)\n",
      "time.print_time()"
     ],
     "language": "python",
     "metadata": {},
     "outputs": [
      {
       "output_type": "stream",
       "stream": "stdout",
       "text": [
        "09:45:00\n"
       ]
      }
     ],
     "prompt_number": 57
    },
    {
     "cell_type": "code",
     "collapsed": false,
     "input": [
      "#Exercise 17.2. Write an init method for the Point class that takes x and y as optional parameters and assigns them to corresponding attributes.\n",
      "\n",
      "class Point(object):\n",
      "    def __init__(self, x=0, y=0):\n",
      "        self.x = x\n",
      "        self.y = y\n",
      "        "
     ],
     "language": "python",
     "metadata": {},
     "outputs": [],
     "prompt_number": 58
    },
    {
     "cell_type": "code",
     "collapsed": false,
     "input": [
      "point = Point()"
     ],
     "language": "python",
     "metadata": {},
     "outputs": [],
     "prompt_number": 59
    },
    {
     "cell_type": "code",
     "collapsed": false,
     "input": [
      "point.x"
     ],
     "language": "python",
     "metadata": {},
     "outputs": [
      {
       "output_type": "pyout",
       "prompt_number": 60,
       "text": [
        "0"
       ]
      }
     ],
     "prompt_number": 60
    },
    {
     "cell_type": "code",
     "collapsed": false,
     "input": [
      "point.y"
     ],
     "language": "python",
     "metadata": {},
     "outputs": [
      {
       "output_type": "pyout",
       "prompt_number": 61,
       "text": [
        "0"
       ]
      }
     ],
     "prompt_number": 61
    },
    {
     "cell_type": "code",
     "collapsed": false,
     "input": [
      "point = Point(3,45)"
     ],
     "language": "python",
     "metadata": {},
     "outputs": [],
     "prompt_number": 62
    },
    {
     "cell_type": "code",
     "collapsed": false,
     "input": [
      "z = point.x, point.y"
     ],
     "language": "python",
     "metadata": {},
     "outputs": [],
     "prompt_number": 66
    },
    {
     "cell_type": "code",
     "collapsed": false,
     "input": [
      "print z"
     ],
     "language": "python",
     "metadata": {},
     "outputs": [
      {
       "output_type": "stream",
       "stream": "stdout",
       "text": [
        "(3, 45)\n"
       ]
      }
     ],
     "prompt_number": 68
    },
    {
     "cell_type": "code",
     "collapsed": false,
     "input": [
      "#The __str__ method\n",
      "#__str__ is a special method. Like __init__, it is supposed to return a string representation of an object. Example: look above in latest Time def."
     ],
     "language": "python",
     "metadata": {},
     "outputs": [],
     "prompt_number": 69
    },
    {
     "cell_type": "code",
     "collapsed": false,
     "input": [
      "time = Time(9,45,0)"
     ],
     "language": "python",
     "metadata": {},
     "outputs": [],
     "prompt_number": 79
    },
    {
     "cell_type": "code",
     "collapsed": false,
     "input": [
      "print time"
     ],
     "language": "python",
     "metadata": {},
     "outputs": [
      {
       "output_type": "stream",
       "stream": "stdout",
       "text": [
        "09:45:00\n"
       ]
      }
     ],
     "prompt_number": 80
    },
    {
     "cell_type": "code",
     "collapsed": false,
     "input": [
      "#Usually start with __init__ and then __str__ (usually for debugging purposes) when writing a new class\n"
     ],
     "language": "python",
     "metadata": {},
     "outputs": [],
     "prompt_number": 81
    },
    {
     "cell_type": "code",
     "collapsed": false,
     "input": [
      "#Exercise 17.3: Write a str method fo the Point class. Create a Point object and print it.\n",
      "\n",
      "class Point(object):\n",
      "    def __init__(self, x=0, y=0):\n",
      "        self.x = x\n",
      "        self.y = y\n",
      "    def __str__(self):\n",
      "        return 'You have created a point at 2-D coordinates (%.2d,%.2d).' % (self.x,self.y)"
     ],
     "language": "python",
     "metadata": {},
     "outputs": [],
     "prompt_number": 93
    },
    {
     "cell_type": "code",
     "collapsed": false,
     "input": [
      "point = Point(3,45)"
     ],
     "language": "python",
     "metadata": {},
     "outputs": [],
     "prompt_number": 87
    },
    {
     "cell_type": "code",
     "collapsed": false,
     "input": [
      "point"
     ],
     "language": "python",
     "metadata": {},
     "outputs": [
      {
       "output_type": "pyout",
       "prompt_number": 88,
       "text": [
        "<__main__.Point at 0x23ab050>"
       ]
      }
     ],
     "prompt_number": 88
    },
    {
     "cell_type": "code",
     "collapsed": false,
     "input": [
      "print point"
     ],
     "language": "python",
     "metadata": {},
     "outputs": [
      {
       "output_type": "stream",
       "stream": "stdout",
       "text": [
        "You have a created a point at 2-D coordinates (03,45).\n"
       ]
      }
     ],
     "prompt_number": 89
    },
    {
     "cell_type": "code",
     "collapsed": false,
     "input": [
      "#Operator Overloading. You can define other special methods that allow you to specify the behavior of operators on user_defined types. \n",
      "#Example: if you define a method named _add_ for Time class, you can use the + operator on Time objects. Neat!\n",
      "\n",
      "start = Time(9,45)\n",
      "duration = Time(1,35)\n",
      "print start + duration"
     ],
     "language": "python",
     "metadata": {},
     "outputs": [
      {
       "output_type": "stream",
       "stream": "stdout",
       "text": [
        "11:20:00\n"
       ]
      }
     ],
     "prompt_number": 91
    },
    {
     "cell_type": "code",
     "collapsed": false,
     "input": [
      "#Here, applying the '+' operator to Time objects invokes the user-defined method __add__, and printing the result invokes __str__ method.\n",
      "#Changing the behavior (here, '+') of an operator so that it works in the way you want with user-defined types is OPERATOR OVERLOADING.\n",
      "#For every operator in Python there is a corresponding special method, like __add__.\n",
      "#docs.python.org/ref/specialnames.html for more information."
     ],
     "language": "python",
     "metadata": {},
     "outputs": [],
     "prompt_number": 92
    },
    {
     "cell_type": "code",
     "collapsed": false,
     "input": [
      "#Exercise 17.4: Write an __add__ method for Point class.\n",
      "\n",
      "class Point(object):\n",
      "    def __init__(self,x=0,y=0):\n",
      "        self.x = x\n",
      "        self.y = y\n",
      "    def __add__(self,other):\n",
      "        xtot = self.x + other.x\n",
      "        ytot = self.y + other.y\n",
      "        tot = Point(xtot,ytot)\n",
      "        return tot\n",
      "    def __str__(self):\n",
      "        return 'You have constructed a point at 2-D coordinates (%.2d, %.2d).' % (self.x, self.y)"
     ],
     "language": "python",
     "metadata": {},
     "outputs": [],
     "prompt_number": 98
    },
    {
     "cell_type": "code",
     "collapsed": false,
     "input": [
      "point0 = Point(3,45)\n",
      "point1 = Point(27,3)"
     ],
     "language": "python",
     "metadata": {},
     "outputs": [],
     "prompt_number": 99
    },
    {
     "cell_type": "code",
     "collapsed": false,
     "input": [
      "finpoint = point0 + point1"
     ],
     "language": "python",
     "metadata": {},
     "outputs": [],
     "prompt_number": 100
    },
    {
     "cell_type": "code",
     "collapsed": false,
     "input": [
      "print finpoint"
     ],
     "language": "python",
     "metadata": {},
     "outputs": [
      {
       "output_type": "stream",
       "stream": "stdout",
       "text": [
        "You have constructed a point at 2-D coordinates (30, 48).\n"
       ]
      }
     ],
     "prompt_number": 101
    },
    {
     "cell_type": "code",
     "collapsed": false,
     "input": [
      "#Type-Based dispatch. Previously we added two objects of the same type, but it might also be of interested to add, say an integer to a Time object.\n",
      "#We can check the type of 'other' and can make it choose either add_time or increment:\n",
      "\n",
      "class Time(object):\n",
      "    def __init__(self, hour=0, minute=0, second=0):\n",
      "        self.hour = hour\n",
      "        self.minute = minute\n",
      "        self.second = second\n",
      "    def __str__(self):\n",
      "        return '%.2d:%.2d:%.2d' % (self.hour, self.minute, self.second)\n",
      "    def __add__(self, other):\n",
      "        if isinstance(other,Time):\n",
      "            return self.add_time(other)\n",
      "        else:\n",
      "            return self.increment(other)\n",
      "    \n",
      "    def add_time(self,other):\n",
      "        seconds = self.time_to_int() + other.time_to_int()\n",
      "        return int_to_time(seconds)\n",
      "    \n",
      "    def __radd__(self, other):\n",
      "        return self.__add__(other)\n",
      "    \n",
      "    def increment(self,seconds):\n",
      "        seconds += self.time_to_int()\n",
      "        return int_to_time(seconds)\n",
      "                           \n",
      "    def time_to_int(self):\n",
      "        minutes = self.hour*60 + self.minute\n",
      "        seconds = minutes*60 + self.second\n",
      "        return seconds\n",
      "    def is_after(self,other):\n",
      "        return self.time_to_int() > other.time_to_int()"
     ],
     "language": "python",
     "metadata": {},
     "outputs": [],
     "prompt_number": 111
    },
    {
     "cell_type": "code",
     "collapsed": false,
     "input": [
      "#Isinstance takes a value and class object and returns True if the value is an instance of the specified class.\n",
      "# If 'other' is a Time object, __add__ chooses to apply add_time. Otherwise, here it invokes increment. \n",
      "#This operation is a 'TYPE-BASED DISPATCH' because it dispatches the computation to different methods based on the type of the arguments provided. Handy!\n",
      "\n",
      "#Examples:\n",
      "\n",
      "start = Time(9,45)\n",
      "print start"
     ],
     "language": "python",
     "metadata": {},
     "outputs": [
      {
       "output_type": "stream",
       "stream": "stdout",
       "text": [
        "09:45:00\n"
       ]
      }
     ],
     "prompt_number": 112
    },
    {
     "cell_type": "code",
     "collapsed": false,
     "input": [
      "duration = Time(1,35)\n",
      "print start + duration"
     ],
     "language": "python",
     "metadata": {},
     "outputs": [
      {
       "output_type": "stream",
       "stream": "stdout",
       "text": [
        "11:20:00\n"
       ]
      }
     ],
     "prompt_number": 113
    },
    {
     "cell_type": "code",
     "collapsed": false,
     "input": [
      "print start + 1337"
     ],
     "language": "python",
     "metadata": {},
     "outputs": [
      {
       "output_type": "stream",
       "stream": "stdout",
       "text": [
        "10:07:17\n"
       ]
      }
     ],
     "prompt_number": 109
    },
    {
     "cell_type": "code",
     "collapsed": false,
     "input": [
      "#THIS IMPLEMENTATION OF ADDITION IS NOT COMMUTATIVE! Example:\n",
      "print 1337 + start"
     ],
     "language": "python",
     "metadata": {},
     "outputs": [
      {
       "ename": "TypeError",
       "evalue": "unsupported operand type(s) for +: 'int' and 'Time'",
       "output_type": "pyerr",
       "traceback": [
        "\u001b[1;31m---------------------------------------------------------------------------\u001b[0m\n\u001b[1;31mTypeError\u001b[0m                                 Traceback (most recent call last)",
        "\u001b[1;32m<ipython-input-110-63285cbbdfee>\u001b[0m in \u001b[0;36m<module>\u001b[1;34m()\u001b[0m\n\u001b[0;32m      1\u001b[0m \u001b[1;31m#THIS IMPLEMENTATION OF ADDITION IS NOT COMMUTATIVE! Example:\u001b[0m\u001b[1;33m\u001b[0m\u001b[1;33m\u001b[0m\u001b[0m\n\u001b[1;32m----> 2\u001b[1;33m \u001b[1;32mprint\u001b[0m \u001b[1;36m1337\u001b[0m \u001b[1;33m+\u001b[0m \u001b[0mstart\u001b[0m\u001b[1;33m\u001b[0m\u001b[0m\n\u001b[0m",
        "\u001b[1;31mTypeError\u001b[0m: unsupported operand type(s) for +: 'int' and 'Time'"
       ]
      }
     ],
     "prompt_number": 110
    },
    {
     "cell_type": "code",
     "collapsed": false,
     "input": [
      "#The solution to this problem of non-commutativity lies in the special method, __radd_ (\"right-side add\") Invoked when a Time object appears on the\n",
      "# right side of the + operator as opposed to the left as usual.\n",
      "\n",
      "print 1337 + start"
     ],
     "language": "python",
     "metadata": {},
     "outputs": [
      {
       "output_type": "stream",
       "stream": "stdout",
       "text": [
        "10:07:17\n"
       ]
      }
     ],
     "prompt_number": 114
    },
    {
     "cell_type": "code",
     "collapsed": false,
     "input": [
      "#Exercise 17.5: Write an add method for Points that works with either a Point object or a tuple."
     ],
     "language": "python",
     "metadata": {},
     "outputs": [],
     "prompt_number": 115
    },
    {
     "cell_type": "code",
     "collapsed": false,
     "input": [
      "class Point(object):\n",
      "    def __init__(self,x=0,y=0):\n",
      "        self.x = x\n",
      "        self.y = y\n",
      "    def __add__(self,other):\n",
      "        if isinstance(other,Point):\n",
      "            return self.add_point(other)\n",
      "        elif isinstance(other,tuple):\n",
      "            return self.add_tuple(other)\n",
      "    \n",
      "    def add_point(self,other):\n",
      "        xtot = self.x + other.x\n",
      "        ytot = self.y + other.y\n",
      "        tot = Point(xtot,ytot)\n",
      "        return tot\n",
      "    \n",
      "    def add_tuple(self,coords):\n",
      "        newx = self.x + coords[0]\n",
      "        newy = self.y + coords[1]\n",
      "        newpoint = Point(newx,newy)\n",
      "        return newpoint\n",
      "    \n",
      "    def __str__(self):\n",
      "        return 'You have constructed a point at 2-D coordinates (%.2d, %.2d).' % (self.x, self.y)"
     ],
     "language": "python",
     "metadata": {},
     "outputs": [],
     "prompt_number": 123
    },
    {
     "cell_type": "code",
     "collapsed": false,
     "input": [
      "point0 = Point(1,-1)\n",
      "point1 = Point(4,3)"
     ],
     "language": "python",
     "metadata": {},
     "outputs": [],
     "prompt_number": 124
    },
    {
     "cell_type": "code",
     "collapsed": false,
     "input": [
      "point2 = point0 + point1"
     ],
     "language": "python",
     "metadata": {},
     "outputs": [],
     "prompt_number": 126
    },
    {
     "cell_type": "code",
     "collapsed": false,
     "input": [
      "print point2"
     ],
     "language": "python",
     "metadata": {},
     "outputs": [
      {
       "output_type": "stream",
       "stream": "stdout",
       "text": [
        "You have constructed a point at 2-D coordinates (05, 02).\n"
       ]
      }
     ],
     "prompt_number": 127
    },
    {
     "cell_type": "code",
     "collapsed": false,
     "input": [
      "print point0"
     ],
     "language": "python",
     "metadata": {},
     "outputs": [
      {
       "output_type": "stream",
       "stream": "stdout",
       "text": [
        "You have constructed a point at 2-D coordinates (01, -01).\n"
       ]
      }
     ],
     "prompt_number": 128
    },
    {
     "cell_type": "code",
     "collapsed": false,
     "input": [
      "print point1"
     ],
     "language": "python",
     "metadata": {},
     "outputs": [
      {
       "output_type": "stream",
       "stream": "stdout",
       "text": [
        "You have constructed a point at 2-D coordinates (04, 03).\n"
       ]
      }
     ],
     "prompt_number": 129
    },
    {
     "cell_type": "code",
     "collapsed": false,
     "input": [
      "point3 = point0 + (10,10)"
     ],
     "language": "python",
     "metadata": {},
     "outputs": [],
     "prompt_number": 132
    },
    {
     "cell_type": "code",
     "collapsed": false,
     "input": [
      "print point3"
     ],
     "language": "python",
     "metadata": {},
     "outputs": [
      {
       "output_type": "stream",
       "stream": "stdout",
       "text": [
        "You have constructed a point at 2-D coordinates (11, 09).\n"
       ]
      }
     ],
     "prompt_number": 133
    },
    {
     "cell_type": "code",
     "collapsed": false,
     "input": [
      "#Polymorphism: Type-based dispatch is not always necessary. The need for t-b dispatch is usually avoidable by writing functions that work \n",
      "#correctly for arguments with different types.\n",
      "\n",
      "#Many fcns we wrote for strings will work for any kind of sequence. Example: we used 'histogram' to count the # of times each letter appears in a word.\n",
      "\n",
      "def histogram(s):\n",
      "    d = dict()\n",
      "    for c in s:\n",
      "        if c not in d:\n",
      "            d[c] = 1\n",
      "        else:\n",
      "            d[c] = d[c]+1\n",
      "    return d"
     ],
     "language": "python",
     "metadata": {},
     "outputs": [],
     "prompt_number": 134
    },
    {
     "cell_type": "code",
     "collapsed": false,
     "input": [
      "#This will also work for lists, tuples, and even dictionaries as long as the elements of s are hashable, so they can be used as keys in 'd'.\n",
      "t = ['spam', 'egg', 'spam', 'spam', 'bacon', 'spam']\n",
      "histogram(t)"
     ],
     "language": "python",
     "metadata": {},
     "outputs": [
      {
       "output_type": "pyout",
       "prompt_number": 135,
       "text": [
        "{'bacon': 1, 'egg': 1, 'spam': 4}"
       ]
      }
     ],
     "prompt_number": 135
    },
    {
     "cell_type": "code",
     "collapsed": false,
     "input": [
      "#Functions that can work w/ severeal types are POLYMORPHIC. Facilitates code re-use. \n",
      "#Example: built-in fcn 'sum' which adds elements of a sequence works as long as the elements of sequence support addition.\n",
      "#Since Time objects provide an add method, they work with sum:\n",
      "\n",
      "t1 = Time(7,43)\n",
      "t2 = Time(7,41)\n",
      "t3 = Time(7,37)\n",
      "total = sum([t1,t2,t3])\n",
      "print total"
     ],
     "language": "python",
     "metadata": {},
     "outputs": [
      {
       "output_type": "stream",
       "stream": "stdout",
       "text": [
        "23:01:00\n"
       ]
      }
     ],
     "prompt_number": 138
    },
    {
     "cell_type": "code",
     "collapsed": false,
     "input": [
      "#Generally, if all the operations inside a fcn work with a given type, then the function works w/ that type. \n"
     ],
     "language": "python",
     "metadata": {},
     "outputs": [],
     "prompt_number": 139
    },
    {
     "cell_type": "code",
     "collapsed": false,
     "input": [
      "#Debugging\n",
      "#Adding attributes to objects at any point in the execution of a program is legal, but it is generally not a good idea to have objects\n",
      "#of the same type with different sets of attributes. Usually good to initialize aall of an object's attributes in __init__.\n",
      "\n",
      "#Remember, can use the built-in function 'hasattr' to check whether or not an object has a particular attribute.\n",
      "#ACan also use the special attribute __dict__ to access the attributes of an object. A dictionary that maps attribute names (as strings) and values:\n",
      "\n",
      "p = Point(3,4)\n",
      "print p.__dict__"
     ],
     "language": "python",
     "metadata": {},
     "outputs": [
      {
       "output_type": "stream",
       "stream": "stdout",
       "text": [
        "{'y': 4, 'x': 3}\n"
       ]
      }
     ],
     "prompt_number": 140
    },
    {
     "cell_type": "code",
     "collapsed": false,
     "input": [
      "#VERY useful for debugging:\n",
      "def print_attributes(obj):\n",
      "       for attr in obj.__dict__:\n",
      "           print attr, getattr(obj,attr)"
     ],
     "language": "python",
     "metadata": {},
     "outputs": [],
     "prompt_number": 142
    },
    {
     "cell_type": "code",
     "collapsed": false,
     "input": [
      "print_attributes(p)"
     ],
     "language": "python",
     "metadata": {},
     "outputs": [
      {
       "output_type": "stream",
       "stream": "stdout",
       "text": [
        "y 4\n",
        "x 3\n"
       ]
      }
     ],
     "prompt_number": 143
    },
    {
     "cell_type": "code",
     "collapsed": false,
     "input": [],
     "language": "python",
     "metadata": {},
     "outputs": [],
     "prompt_number": 148
    },
    {
     "cell_type": "code",
     "collapsed": false,
     "input": [],
     "language": "python",
     "metadata": {},
     "outputs": []
    }
   ],
   "metadata": {}
  }
 ]
}